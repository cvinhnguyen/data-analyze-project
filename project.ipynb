{
 "cells": [
  {
   "cell_type": "markdown",
   "metadata": {},
   "source": [
    "## Project Overview\n",
    "\n",
    "This analysis explores mental health in the tech industry using survey data from 2014. \n",
    "The goal is to understand patterns in mental health treatment, workplace factors, and demographic influences."
   ]
  },
  {
   "cell_type": "code",
   "execution_count": 4,
   "metadata": {},
   "outputs": [
    {
     "name": "stdout",
     "output_type": "stream",
     "text": [
      "Requirement already satisfied: pandas in ./.venv/lib/python3.13/site-packages (2.2.3)\n",
      "Requirement already satisfied: numpy>=1.26.0 in ./.venv/lib/python3.13/site-packages (from pandas) (2.1.3)\n",
      "Requirement already satisfied: python-dateutil>=2.8.2 in ./.venv/lib/python3.13/site-packages (from pandas) (2.9.0.post0)\n",
      "Requirement already satisfied: pytz>=2020.1 in ./.venv/lib/python3.13/site-packages (from pandas) (2024.2)\n",
      "Requirement already satisfied: tzdata>=2022.7 in ./.venv/lib/python3.13/site-packages (from pandas) (2024.2)\n",
      "Requirement already satisfied: six>=1.5 in ./.venv/lib/python3.13/site-packages (from python-dateutil>=2.8.2->pandas) (1.17.0)\n",
      "Note: you may need to restart the kernel to use updated packages.\n",
      "Requirement already satisfied: scikit-learn in ./.venv/lib/python3.13/site-packages (1.5.2)\n",
      "Requirement already satisfied: numpy>=1.19.5 in ./.venv/lib/python3.13/site-packages (from scikit-learn) (2.1.3)\n",
      "Requirement already satisfied: scipy>=1.6.0 in ./.venv/lib/python3.13/site-packages (from scikit-learn) (1.14.1)\n",
      "Requirement already satisfied: joblib>=1.2.0 in ./.venv/lib/python3.13/site-packages (from scikit-learn) (1.4.2)\n",
      "Requirement already satisfied: threadpoolctl>=3.1.0 in ./.venv/lib/python3.13/site-packages (from scikit-learn) (3.5.0)\n",
      "Note: you may need to restart the kernel to use updated packages.\n"
     ]
    }
   ],
   "source": [
    "%pip install pandas\n",
    "%pip install scikit-learn"
   ]
  },
  {
   "cell_type": "markdown",
   "metadata": {},
   "source": [
    "## I. Data processing"
   ]
  },
  {
   "cell_type": "markdown",
   "metadata": {},
   "source": [
    "### Load dataset and import essential library"
   ]
  },
  {
   "cell_type": "code",
   "execution_count": 2,
   "metadata": {},
   "outputs": [],
   "source": [
    "# Import necessary libraries\n",
    "import pandas as pd"
   ]
  },
  {
   "cell_type": "code",
   "execution_count": 3,
   "metadata": {},
   "outputs": [
    {
     "data": {
      "text/html": [
       "<div>\n",
       "<style scoped>\n",
       "    .dataframe tbody tr th:only-of-type {\n",
       "        vertical-align: middle;\n",
       "    }\n",
       "\n",
       "    .dataframe tbody tr th {\n",
       "        vertical-align: top;\n",
       "    }\n",
       "\n",
       "    .dataframe thead th {\n",
       "        text-align: right;\n",
       "    }\n",
       "</style>\n",
       "<table border=\"1\" class=\"dataframe\">\n",
       "  <thead>\n",
       "    <tr style=\"text-align: right;\">\n",
       "      <th></th>\n",
       "      <th>Timestamp</th>\n",
       "      <th>Gender</th>\n",
       "      <th>Country</th>\n",
       "      <th>Occupation</th>\n",
       "      <th>self_employed</th>\n",
       "      <th>family_history</th>\n",
       "      <th>treatment</th>\n",
       "      <th>Days_Indoors</th>\n",
       "      <th>Growing_Stress</th>\n",
       "      <th>Changes_Habits</th>\n",
       "      <th>Mental_Health_History</th>\n",
       "      <th>Mood_Swings</th>\n",
       "      <th>Coping_Struggles</th>\n",
       "      <th>Work_Interest</th>\n",
       "      <th>Social_Weakness</th>\n",
       "      <th>mental_health_interview</th>\n",
       "      <th>care_options</th>\n",
       "    </tr>\n",
       "  </thead>\n",
       "  <tbody>\n",
       "    <tr>\n",
       "      <th>0</th>\n",
       "      <td>8/27/2014 11:29</td>\n",
       "      <td>Female</td>\n",
       "      <td>United States</td>\n",
       "      <td>Corporate</td>\n",
       "      <td>NaN</td>\n",
       "      <td>No</td>\n",
       "      <td>Yes</td>\n",
       "      <td>1-14 days</td>\n",
       "      <td>Yes</td>\n",
       "      <td>No</td>\n",
       "      <td>Yes</td>\n",
       "      <td>Medium</td>\n",
       "      <td>No</td>\n",
       "      <td>No</td>\n",
       "      <td>Yes</td>\n",
       "      <td>No</td>\n",
       "      <td>Not sure</td>\n",
       "    </tr>\n",
       "    <tr>\n",
       "      <th>1</th>\n",
       "      <td>8/27/2014 11:31</td>\n",
       "      <td>Female</td>\n",
       "      <td>United States</td>\n",
       "      <td>Corporate</td>\n",
       "      <td>NaN</td>\n",
       "      <td>Yes</td>\n",
       "      <td>Yes</td>\n",
       "      <td>1-14 days</td>\n",
       "      <td>Yes</td>\n",
       "      <td>No</td>\n",
       "      <td>Yes</td>\n",
       "      <td>Medium</td>\n",
       "      <td>No</td>\n",
       "      <td>No</td>\n",
       "      <td>Yes</td>\n",
       "      <td>No</td>\n",
       "      <td>No</td>\n",
       "    </tr>\n",
       "    <tr>\n",
       "      <th>2</th>\n",
       "      <td>8/27/2014 11:32</td>\n",
       "      <td>Female</td>\n",
       "      <td>United States</td>\n",
       "      <td>Corporate</td>\n",
       "      <td>NaN</td>\n",
       "      <td>Yes</td>\n",
       "      <td>Yes</td>\n",
       "      <td>1-14 days</td>\n",
       "      <td>Yes</td>\n",
       "      <td>No</td>\n",
       "      <td>Yes</td>\n",
       "      <td>Medium</td>\n",
       "      <td>No</td>\n",
       "      <td>No</td>\n",
       "      <td>Yes</td>\n",
       "      <td>No</td>\n",
       "      <td>Yes</td>\n",
       "    </tr>\n",
       "    <tr>\n",
       "      <th>3</th>\n",
       "      <td>8/27/2014 11:37</td>\n",
       "      <td>Female</td>\n",
       "      <td>United States</td>\n",
       "      <td>Corporate</td>\n",
       "      <td>No</td>\n",
       "      <td>Yes</td>\n",
       "      <td>Yes</td>\n",
       "      <td>1-14 days</td>\n",
       "      <td>Yes</td>\n",
       "      <td>No</td>\n",
       "      <td>Yes</td>\n",
       "      <td>Medium</td>\n",
       "      <td>No</td>\n",
       "      <td>No</td>\n",
       "      <td>Yes</td>\n",
       "      <td>Maybe</td>\n",
       "      <td>Yes</td>\n",
       "    </tr>\n",
       "    <tr>\n",
       "      <th>4</th>\n",
       "      <td>8/27/2014 11:43</td>\n",
       "      <td>Female</td>\n",
       "      <td>United States</td>\n",
       "      <td>Corporate</td>\n",
       "      <td>No</td>\n",
       "      <td>Yes</td>\n",
       "      <td>Yes</td>\n",
       "      <td>1-14 days</td>\n",
       "      <td>Yes</td>\n",
       "      <td>No</td>\n",
       "      <td>Yes</td>\n",
       "      <td>Medium</td>\n",
       "      <td>No</td>\n",
       "      <td>No</td>\n",
       "      <td>Yes</td>\n",
       "      <td>No</td>\n",
       "      <td>Yes</td>\n",
       "    </tr>\n",
       "  </tbody>\n",
       "</table>\n",
       "</div>"
      ],
      "text/plain": [
       "         Timestamp  Gender        Country Occupation self_employed  \\\n",
       "0  8/27/2014 11:29  Female  United States  Corporate           NaN   \n",
       "1  8/27/2014 11:31  Female  United States  Corporate           NaN   \n",
       "2  8/27/2014 11:32  Female  United States  Corporate           NaN   \n",
       "3  8/27/2014 11:37  Female  United States  Corporate            No   \n",
       "4  8/27/2014 11:43  Female  United States  Corporate            No   \n",
       "\n",
       "  family_history treatment Days_Indoors Growing_Stress Changes_Habits  \\\n",
       "0             No       Yes    1-14 days            Yes             No   \n",
       "1            Yes       Yes    1-14 days            Yes             No   \n",
       "2            Yes       Yes    1-14 days            Yes             No   \n",
       "3            Yes       Yes    1-14 days            Yes             No   \n",
       "4            Yes       Yes    1-14 days            Yes             No   \n",
       "\n",
       "  Mental_Health_History Mood_Swings Coping_Struggles Work_Interest  \\\n",
       "0                   Yes      Medium               No            No   \n",
       "1                   Yes      Medium               No            No   \n",
       "2                   Yes      Medium               No            No   \n",
       "3                   Yes      Medium               No            No   \n",
       "4                   Yes      Medium               No            No   \n",
       "\n",
       "  Social_Weakness mental_health_interview care_options  \n",
       "0             Yes                      No     Not sure  \n",
       "1             Yes                      No           No  \n",
       "2             Yes                      No          Yes  \n",
       "3             Yes                   Maybe          Yes  \n",
       "4             Yes                      No          Yes  "
      ]
     },
     "execution_count": 3,
     "metadata": {},
     "output_type": "execute_result"
    }
   ],
   "source": [
    "# Load dataset\n",
    "\n",
    "mental_health = pd.read_csv(\"Mental Health Dataset.csv\")\n",
    "\n",
    "mental_health.head()"
   ]
  },
  {
   "cell_type": "markdown",
   "metadata": {},
   "source": [
    "### 1. Exploring the Dataset"
   ]
  },
  {
   "cell_type": "code",
   "execution_count": 4,
   "metadata": {},
   "outputs": [
    {
     "name": "stdout",
     "output_type": "stream",
     "text": [
      "<class 'pandas.core.frame.DataFrame'>\n",
      "RangeIndex: 292364 entries, 0 to 292363\n",
      "Data columns (total 17 columns):\n",
      " #   Column                   Non-Null Count   Dtype \n",
      "---  ------                   --------------   ----- \n",
      " 0   Timestamp                292364 non-null  object\n",
      " 1   Gender                   292364 non-null  object\n",
      " 2   Country                  292364 non-null  object\n",
      " 3   Occupation               292364 non-null  object\n",
      " 4   self_employed            287162 non-null  object\n",
      " 5   family_history           292364 non-null  object\n",
      " 6   treatment                292364 non-null  object\n",
      " 7   Days_Indoors             292364 non-null  object\n",
      " 8   Growing_Stress           292364 non-null  object\n",
      " 9   Changes_Habits           292364 non-null  object\n",
      " 10  Mental_Health_History    292364 non-null  object\n",
      " 11  Mood_Swings              292364 non-null  object\n",
      " 12  Coping_Struggles         292364 non-null  object\n",
      " 13  Work_Interest            292364 non-null  object\n",
      " 14  Social_Weakness          292364 non-null  object\n",
      " 15  mental_health_interview  292364 non-null  object\n",
      " 16  care_options             292364 non-null  object\n",
      "dtypes: object(17)\n",
      "memory usage: 37.9+ MB\n"
     ]
    }
   ],
   "source": [
    "# Get basic information about the dataset\n",
    "mental_health.info()"
   ]
  },
  {
   "cell_type": "code",
   "execution_count": 5,
   "metadata": {},
   "outputs": [
    {
     "name": "stdout",
     "output_type": "stream",
     "text": [
      "Random sample of data:\n",
      "              Timestamp  Gender         Country Occupation self_employed  \\\n",
      "50065    8/29/2014 9:23  Female   United States    Student            No   \n",
      "99653   8/28/2014 13:39    Male   United States   Business            No   \n",
      "114287  8/27/2014 19:34    Male          Canada   Business            No   \n",
      "123952  8/27/2014 12:52    Male  United Kingdom   Business            No   \n",
      "113131  8/28/2014 10:05    Male   United States   Business            No   \n",
      "\n",
      "       family_history treatment      Days_Indoors Growing_Stress  \\\n",
      "50065             Yes        No  Go out Every day            Yes   \n",
      "99653             Yes       Yes        31-60 days             No   \n",
      "114287             No        No         1-14 days             No   \n",
      "123952             No        No  Go out Every day             No   \n",
      "113131             No        No        31-60 days          Maybe   \n",
      "\n",
      "       Changes_Habits Mental_Health_History Mood_Swings Coping_Struggles  \\\n",
      "50065             Yes                 Maybe         Low              Yes   \n",
      "99653             Yes                 Maybe         Low               No   \n",
      "114287             No                    No        High               No   \n",
      "123952            Yes                    No      Medium              Yes   \n",
      "113131          Maybe                 Maybe         Low               No   \n",
      "\n",
      "       Work_Interest Social_Weakness mental_health_interview care_options  \n",
      "50065            Yes             Yes                      No     Not sure  \n",
      "99653          Maybe              No                   Maybe          Yes  \n",
      "114287            No           Maybe                      No           No  \n",
      "123952           Yes           Maybe                   Maybe           No  \n",
      "113131         Maybe             Yes                      No          Yes  \n"
     ]
    }
   ],
   "source": [
    "# View random sample of data\n",
    "print(\"Random sample of data:\")\n",
    "print(mental_health.sample(n=5))"
   ]
  },
  {
   "cell_type": "code",
   "execution_count": 6,
   "metadata": {},
   "outputs": [
    {
     "name": "stdout",
     "output_type": "stream",
     "text": [
      "\n",
      "Total rows and columns:\n",
      "Number of rows: 292364\n",
      "Number of columns: 17\n"
     ]
    }
   ],
   "source": [
    "# Get total number of rows and columns\n",
    "print(\"\\nTotal rows and columns:\")\n",
    "print(f\"Number of rows: {mental_health.shape[0]}\")\n",
    "print(f\"Number of columns: {mental_health.shape[1]}\")"
   ]
  },
  {
   "cell_type": "markdown",
   "metadata": {},
   "source": [
    "### 2.Handle missing values"
   ]
  },
  {
   "cell_type": "code",
   "execution_count": 7,
   "metadata": {},
   "outputs": [
    {
     "name": "stdout",
     "output_type": "stream",
     "text": [
      "               Missing Values  Percentage\n",
      "self_employed            5202        1.78\n"
     ]
    }
   ],
   "source": [
    "# Check for missing values\n",
    "missing_values = mental_health.isnull().sum()\n",
    "\n",
    "# Calculate percentange of missing values\n",
    "missing_percentages = ( missing_values / len(mental_health) * 100).round(2)\n",
    "\n",
    "# Print missing values and missing percentage\n",
    "missing_info = pd.DataFrame({\n",
    "    'Missing Values': missing_values,\n",
    "    'Percentage': missing_percentages\n",
    "})\n",
    "\n",
    "print(missing_info[missing_info['Missing Values'] > 0])"
   ]
  },
  {
   "cell_type": "code",
   "execution_count": 8,
   "metadata": {},
   "outputs": [
    {
     "data": {
      "text/plain": [
       "Timestamp                  0\n",
       "Gender                     0\n",
       "Country                    0\n",
       "Occupation                 0\n",
       "self_employed              0\n",
       "family_history             0\n",
       "treatment                  0\n",
       "Days_Indoors               0\n",
       "Growing_Stress             0\n",
       "Changes_Habits             0\n",
       "Mental_Health_History      0\n",
       "Mood_Swings                0\n",
       "Coping_Struggles           0\n",
       "Work_Interest              0\n",
       "Social_Weakness            0\n",
       "mental_health_interview    0\n",
       "care_options               0\n",
       "dtype: int64"
      ]
     },
     "execution_count": 8,
     "metadata": {},
     "output_type": "execute_result"
    }
   ],
   "source": [
    "# Fill missing in self_employed with 'No' as the most common case\n",
    "mental_health['self_employed'] = mental_health['self_employed'].fillna('No')\n",
    "\n",
    "# Verify missing values are handled\n",
    "mental_health.isnull().sum()"
   ]
  },
  {
   "cell_type": "code",
   "execution_count": 9,
   "metadata": {},
   "outputs": [
    {
     "name": "stdout",
     "output_type": "stream",
     "text": [
      "\n",
      "Number of duplicate rows: 2313\n"
     ]
    }
   ],
   "source": [
    "# Check for duplicate rows\n",
    "duplicates = mental_health.duplicated().sum()\n",
    "print(f\"\\nNumber of duplicate rows: {duplicates}\")"
   ]
  },
  {
   "cell_type": "code",
   "execution_count": 10,
   "metadata": {},
   "outputs": [],
   "source": [
    "# Remove duplicates if any exist\n",
    "mental_health = mental_health.drop_duplicates()"
   ]
  },
  {
   "cell_type": "code",
   "execution_count": 11,
   "metadata": {},
   "outputs": [
    {
     "name": "stdout",
     "output_type": "stream",
     "text": [
      "\n",
      "Dataset after preprocessed: (290051, 17)\n"
     ]
    }
   ],
   "source": [
    "# Verify the final shape after cleaning\n",
    "print(f\"\\nDataset after preprocessed: {mental_health.shape}\")"
   ]
  },
  {
   "cell_type": "markdown",
   "metadata": {},
   "source": [
    "### 3. Encoding categorical data"
   ]
  },
  {
   "cell_type": "code",
   "execution_count": 12,
   "metadata": {},
   "outputs": [
    {
     "data": {
      "text/html": [
       "<div>\n",
       "<style scoped>\n",
       "    .dataframe tbody tr th:only-of-type {\n",
       "        vertical-align: middle;\n",
       "    }\n",
       "\n",
       "    .dataframe tbody tr th {\n",
       "        vertical-align: top;\n",
       "    }\n",
       "\n",
       "    .dataframe thead th {\n",
       "        text-align: right;\n",
       "    }\n",
       "</style>\n",
       "<table border=\"1\" class=\"dataframe\">\n",
       "  <thead>\n",
       "    <tr style=\"text-align: right;\">\n",
       "      <th></th>\n",
       "      <th>Timestamp</th>\n",
       "      <th>Gender</th>\n",
       "      <th>Country</th>\n",
       "      <th>Occupation</th>\n",
       "      <th>self_employed</th>\n",
       "      <th>family_history</th>\n",
       "      <th>treatment</th>\n",
       "      <th>Days_Indoors</th>\n",
       "      <th>Growing_Stress</th>\n",
       "      <th>Changes_Habits</th>\n",
       "      <th>Mental_Health_History</th>\n",
       "      <th>Mood_Swings</th>\n",
       "      <th>Coping_Struggles</th>\n",
       "      <th>Work_Interest</th>\n",
       "      <th>Social_Weakness</th>\n",
       "      <th>mental_health_interview</th>\n",
       "      <th>care_options</th>\n",
       "    </tr>\n",
       "  </thead>\n",
       "  <tbody>\n",
       "    <tr>\n",
       "      <th>0</th>\n",
       "      <td>8/27/2014 11:29</td>\n",
       "      <td>0</td>\n",
       "      <td>United States</td>\n",
       "      <td>Corporate</td>\n",
       "      <td>No</td>\n",
       "      <td>No</td>\n",
       "      <td>Yes</td>\n",
       "      <td>1-14 days</td>\n",
       "      <td>Yes</td>\n",
       "      <td>No</td>\n",
       "      <td>Yes</td>\n",
       "      <td>Medium</td>\n",
       "      <td>No</td>\n",
       "      <td>No</td>\n",
       "      <td>Yes</td>\n",
       "      <td>No</td>\n",
       "      <td>Not sure</td>\n",
       "    </tr>\n",
       "    <tr>\n",
       "      <th>1</th>\n",
       "      <td>8/27/2014 11:31</td>\n",
       "      <td>0</td>\n",
       "      <td>United States</td>\n",
       "      <td>Corporate</td>\n",
       "      <td>No</td>\n",
       "      <td>Yes</td>\n",
       "      <td>Yes</td>\n",
       "      <td>1-14 days</td>\n",
       "      <td>Yes</td>\n",
       "      <td>No</td>\n",
       "      <td>Yes</td>\n",
       "      <td>Medium</td>\n",
       "      <td>No</td>\n",
       "      <td>No</td>\n",
       "      <td>Yes</td>\n",
       "      <td>No</td>\n",
       "      <td>No</td>\n",
       "    </tr>\n",
       "    <tr>\n",
       "      <th>2</th>\n",
       "      <td>8/27/2014 11:32</td>\n",
       "      <td>0</td>\n",
       "      <td>United States</td>\n",
       "      <td>Corporate</td>\n",
       "      <td>No</td>\n",
       "      <td>Yes</td>\n",
       "      <td>Yes</td>\n",
       "      <td>1-14 days</td>\n",
       "      <td>Yes</td>\n",
       "      <td>No</td>\n",
       "      <td>Yes</td>\n",
       "      <td>Medium</td>\n",
       "      <td>No</td>\n",
       "      <td>No</td>\n",
       "      <td>Yes</td>\n",
       "      <td>No</td>\n",
       "      <td>Yes</td>\n",
       "    </tr>\n",
       "    <tr>\n",
       "      <th>3</th>\n",
       "      <td>8/27/2014 11:37</td>\n",
       "      <td>0</td>\n",
       "      <td>United States</td>\n",
       "      <td>Corporate</td>\n",
       "      <td>No</td>\n",
       "      <td>Yes</td>\n",
       "      <td>Yes</td>\n",
       "      <td>1-14 days</td>\n",
       "      <td>Yes</td>\n",
       "      <td>No</td>\n",
       "      <td>Yes</td>\n",
       "      <td>Medium</td>\n",
       "      <td>No</td>\n",
       "      <td>No</td>\n",
       "      <td>Yes</td>\n",
       "      <td>Maybe</td>\n",
       "      <td>Yes</td>\n",
       "    </tr>\n",
       "    <tr>\n",
       "      <th>4</th>\n",
       "      <td>8/27/2014 11:43</td>\n",
       "      <td>0</td>\n",
       "      <td>United States</td>\n",
       "      <td>Corporate</td>\n",
       "      <td>No</td>\n",
       "      <td>Yes</td>\n",
       "      <td>Yes</td>\n",
       "      <td>1-14 days</td>\n",
       "      <td>Yes</td>\n",
       "      <td>No</td>\n",
       "      <td>Yes</td>\n",
       "      <td>Medium</td>\n",
       "      <td>No</td>\n",
       "      <td>No</td>\n",
       "      <td>Yes</td>\n",
       "      <td>No</td>\n",
       "      <td>Yes</td>\n",
       "    </tr>\n",
       "  </tbody>\n",
       "</table>\n",
       "</div>"
      ],
      "text/plain": [
       "         Timestamp  Gender        Country Occupation self_employed  \\\n",
       "0  8/27/2014 11:29       0  United States  Corporate            No   \n",
       "1  8/27/2014 11:31       0  United States  Corporate            No   \n",
       "2  8/27/2014 11:32       0  United States  Corporate            No   \n",
       "3  8/27/2014 11:37       0  United States  Corporate            No   \n",
       "4  8/27/2014 11:43       0  United States  Corporate            No   \n",
       "\n",
       "  family_history treatment Days_Indoors Growing_Stress Changes_Habits  \\\n",
       "0             No       Yes    1-14 days            Yes             No   \n",
       "1            Yes       Yes    1-14 days            Yes             No   \n",
       "2            Yes       Yes    1-14 days            Yes             No   \n",
       "3            Yes       Yes    1-14 days            Yes             No   \n",
       "4            Yes       Yes    1-14 days            Yes             No   \n",
       "\n",
       "  Mental_Health_History Mood_Swings Coping_Struggles Work_Interest  \\\n",
       "0                   Yes      Medium               No            No   \n",
       "1                   Yes      Medium               No            No   \n",
       "2                   Yes      Medium               No            No   \n",
       "3                   Yes      Medium               No            No   \n",
       "4                   Yes      Medium               No            No   \n",
       "\n",
       "  Social_Weakness mental_health_interview care_options  \n",
       "0             Yes                      No     Not sure  \n",
       "1             Yes                      No           No  \n",
       "2             Yes                      No          Yes  \n",
       "3             Yes                   Maybe          Yes  \n",
       "4             Yes                      No          Yes  "
      ]
     },
     "execution_count": 12,
     "metadata": {},
     "output_type": "execute_result"
    }
   ],
   "source": [
    "\n",
    "# Convert 'Gender' to numerical values: Male -> 1, Female -> 0\n",
    "mental_health['Gender'] = mental_health['Gender'].map({'Male': 1, 'Female': 0})\n",
    "\n",
    "# Display the updated dataset\n",
    "mental_health.head()"
   ]
  },
  {
   "cell_type": "markdown",
   "metadata": {},
   "source": [
    "### 4.Creating a processed dataset"
   ]
  },
  {
   "cell_type": "code",
   "execution_count": 13,
   "metadata": {},
   "outputs": [
    {
     "name": "stdout",
     "output_type": "stream",
     "text": [
      "Processed dataset saved as 'mental_health_processed.csv'.\n"
     ]
    }
   ],
   "source": [
    "\n",
    "# Save the processed dataset to a new CSV file\n",
    "mental_health.to_csv(\"mental_health_processed.csv\", index=False)\n",
    "\n",
    "print(\"Processed dataset saved as 'mental_health_processed.csv'.\")\n"
   ]
  },
  {
   "cell_type": "markdown",
   "metadata": {},
   "source": [
    "### Data cleaning process conclusion\n",
    "\n",
    "1. Handled missing values in 'self_employed' column by filling with 'No'\n",
    "2. Removed duplicate entries\n",
    "3. Encoded categorical variables (Gender: Male->1, Female->0)\n",
    "4. Created processed dataset for analysis"
   ]
  },
  {
   "cell_type": "markdown",
   "metadata": {},
   "source": [
    "## II. Data object and attribute types\n"
   ]
  },
  {
   "cell_type": "markdown",
   "metadata": {},
   "source": [
    "### 1. Analyze unique data\n"
   ]
  },
  {
   "cell_type": "code",
   "execution_count": 14,
   "metadata": {},
   "outputs": [
    {
     "data": {
      "text/html": [
       "<div>\n",
       "<style scoped>\n",
       "    .dataframe tbody tr th:only-of-type {\n",
       "        vertical-align: middle;\n",
       "    }\n",
       "\n",
       "    .dataframe tbody tr th {\n",
       "        vertical-align: top;\n",
       "    }\n",
       "\n",
       "    .dataframe thead th {\n",
       "        text-align: right;\n",
       "    }\n",
       "</style>\n",
       "<table border=\"1\" class=\"dataframe\">\n",
       "  <thead>\n",
       "    <tr style=\"text-align: right;\">\n",
       "      <th></th>\n",
       "      <th>Timestamp</th>\n",
       "      <th>Gender</th>\n",
       "      <th>Country</th>\n",
       "      <th>Occupation</th>\n",
       "      <th>self_employed</th>\n",
       "      <th>family_history</th>\n",
       "      <th>treatment</th>\n",
       "      <th>Days_Indoors</th>\n",
       "      <th>Growing_Stress</th>\n",
       "      <th>Changes_Habits</th>\n",
       "      <th>Mental_Health_History</th>\n",
       "      <th>Mood_Swings</th>\n",
       "      <th>Coping_Struggles</th>\n",
       "      <th>Work_Interest</th>\n",
       "      <th>Social_Weakness</th>\n",
       "      <th>mental_health_interview</th>\n",
       "      <th>care_options</th>\n",
       "    </tr>\n",
       "  </thead>\n",
       "  <tbody>\n",
       "    <tr>\n",
       "      <th>0</th>\n",
       "      <td>8/27/2014 11:29</td>\n",
       "      <td>0</td>\n",
       "      <td>United States</td>\n",
       "      <td>Corporate</td>\n",
       "      <td>No</td>\n",
       "      <td>No</td>\n",
       "      <td>Yes</td>\n",
       "      <td>1-14 days</td>\n",
       "      <td>Yes</td>\n",
       "      <td>No</td>\n",
       "      <td>Yes</td>\n",
       "      <td>Medium</td>\n",
       "      <td>No</td>\n",
       "      <td>No</td>\n",
       "      <td>Yes</td>\n",
       "      <td>No</td>\n",
       "      <td>Not sure</td>\n",
       "    </tr>\n",
       "    <tr>\n",
       "      <th>1</th>\n",
       "      <td>8/27/2014 11:31</td>\n",
       "      <td>0</td>\n",
       "      <td>United States</td>\n",
       "      <td>Corporate</td>\n",
       "      <td>No</td>\n",
       "      <td>Yes</td>\n",
       "      <td>Yes</td>\n",
       "      <td>1-14 days</td>\n",
       "      <td>Yes</td>\n",
       "      <td>No</td>\n",
       "      <td>Yes</td>\n",
       "      <td>Medium</td>\n",
       "      <td>No</td>\n",
       "      <td>No</td>\n",
       "      <td>Yes</td>\n",
       "      <td>No</td>\n",
       "      <td>No</td>\n",
       "    </tr>\n",
       "    <tr>\n",
       "      <th>2</th>\n",
       "      <td>8/27/2014 11:32</td>\n",
       "      <td>0</td>\n",
       "      <td>United States</td>\n",
       "      <td>Corporate</td>\n",
       "      <td>No</td>\n",
       "      <td>Yes</td>\n",
       "      <td>Yes</td>\n",
       "      <td>1-14 days</td>\n",
       "      <td>Yes</td>\n",
       "      <td>No</td>\n",
       "      <td>Yes</td>\n",
       "      <td>Medium</td>\n",
       "      <td>No</td>\n",
       "      <td>No</td>\n",
       "      <td>Yes</td>\n",
       "      <td>No</td>\n",
       "      <td>Yes</td>\n",
       "    </tr>\n",
       "    <tr>\n",
       "      <th>3</th>\n",
       "      <td>8/27/2014 11:37</td>\n",
       "      <td>0</td>\n",
       "      <td>United States</td>\n",
       "      <td>Corporate</td>\n",
       "      <td>No</td>\n",
       "      <td>Yes</td>\n",
       "      <td>Yes</td>\n",
       "      <td>1-14 days</td>\n",
       "      <td>Yes</td>\n",
       "      <td>No</td>\n",
       "      <td>Yes</td>\n",
       "      <td>Medium</td>\n",
       "      <td>No</td>\n",
       "      <td>No</td>\n",
       "      <td>Yes</td>\n",
       "      <td>Maybe</td>\n",
       "      <td>Yes</td>\n",
       "    </tr>\n",
       "    <tr>\n",
       "      <th>4</th>\n",
       "      <td>8/27/2014 11:43</td>\n",
       "      <td>0</td>\n",
       "      <td>United States</td>\n",
       "      <td>Corporate</td>\n",
       "      <td>No</td>\n",
       "      <td>Yes</td>\n",
       "      <td>Yes</td>\n",
       "      <td>1-14 days</td>\n",
       "      <td>Yes</td>\n",
       "      <td>No</td>\n",
       "      <td>Yes</td>\n",
       "      <td>Medium</td>\n",
       "      <td>No</td>\n",
       "      <td>No</td>\n",
       "      <td>Yes</td>\n",
       "      <td>No</td>\n",
       "      <td>Yes</td>\n",
       "    </tr>\n",
       "  </tbody>\n",
       "</table>\n",
       "</div>"
      ],
      "text/plain": [
       "         Timestamp  Gender        Country Occupation self_employed  \\\n",
       "0  8/27/2014 11:29       0  United States  Corporate            No   \n",
       "1  8/27/2014 11:31       0  United States  Corporate            No   \n",
       "2  8/27/2014 11:32       0  United States  Corporate            No   \n",
       "3  8/27/2014 11:37       0  United States  Corporate            No   \n",
       "4  8/27/2014 11:43       0  United States  Corporate            No   \n",
       "\n",
       "  family_history treatment Days_Indoors Growing_Stress Changes_Habits  \\\n",
       "0             No       Yes    1-14 days            Yes             No   \n",
       "1            Yes       Yes    1-14 days            Yes             No   \n",
       "2            Yes       Yes    1-14 days            Yes             No   \n",
       "3            Yes       Yes    1-14 days            Yes             No   \n",
       "4            Yes       Yes    1-14 days            Yes             No   \n",
       "\n",
       "  Mental_Health_History Mood_Swings Coping_Struggles Work_Interest  \\\n",
       "0                   Yes      Medium               No            No   \n",
       "1                   Yes      Medium               No            No   \n",
       "2                   Yes      Medium               No            No   \n",
       "3                   Yes      Medium               No            No   \n",
       "4                   Yes      Medium               No            No   \n",
       "\n",
       "  Social_Weakness mental_health_interview care_options  \n",
       "0             Yes                      No     Not sure  \n",
       "1             Yes                      No           No  \n",
       "2             Yes                      No          Yes  \n",
       "3             Yes                   Maybe          Yes  \n",
       "4             Yes                      No          Yes  "
      ]
     },
     "execution_count": 14,
     "metadata": {},
     "output_type": "execute_result"
    }
   ],
   "source": [
    "# Load dataset\n",
    "\n",
    "mental_health_processed = pd.read_csv(\"mental_health_processed.csv\")\n",
    "\n",
    "mental_health_processed.head()"
   ]
  },
  {
   "cell_type": "code",
   "execution_count": 15,
   "metadata": {},
   "outputs": [
    {
     "name": "stdout",
     "output_type": "stream",
     "text": [
      "Analysis of attribute types:\n",
      "\n",
      "\n",
      "Timestamp:\n",
      "Number of unique values: 580\n",
      "Unique values: ['10/2/2014 21:25', '11/16/2014 8:42', '12/1/2014 9:58', '12/15/2014 0:43', '2/1/2016 23:04', '2/21/2015 10:00', '2/21/2015 17:19', '2/21/2015 18:54', '2/21/2015 18:59', '2/21/2015 4:16', '2/21/2015 4:32', '2/21/2015 4:41', '2/21/2015 4:55', '2/21/2015 5:11', '2/21/2015 5:34', '2/21/2015 5:55', '2/21/2015 6:19', '2/21/2015 8:21', '2/21/2015 8:54', '2/21/2015 9:18', '2/21/2015 9:19', '2/21/2015 9:22', '2/21/2015 9:30', '2/21/2015 9:48', '2/22/2015 2:40', '2/24/2015 10:32', '2/24/2015 8:54', '2/24/2015 9:00', '2/24/2015 9:13', '2/24/2015 9:18', '4/11/2015 14:35', '4/2/2015 15:47', '4/23/2015 14:03', '5/6/2015 10:14', '5/6/2015 16:55', '6/25/2015 12:24', '7/27/2015 23:25', '8/17/2015 9:38', '8/25/2015 19:59', '8/27/2014 11:29', '8/27/2014 11:30', '8/27/2014 11:31', '8/27/2014 11:32', '8/27/2014 11:33', '8/27/2014 11:34', '8/27/2014 11:35', '8/27/2014 11:36', '8/27/2014 11:37', '8/27/2014 11:38', '8/27/2014 11:39', '8/27/2014 11:41', '8/27/2014 11:42', '8/27/2014 11:43', '8/27/2014 11:45', '8/27/2014 11:47', '8/27/2014 11:48', '8/27/2014 11:49', '8/27/2014 11:50', '8/27/2014 11:51', '8/27/2014 11:52', '8/27/2014 11:56', '8/27/2014 11:57', '8/27/2014 11:59', '8/27/2014 12:01', '8/27/2014 12:02', '8/27/2014 12:05', '8/27/2014 12:07', '8/27/2014 12:12', '8/27/2014 12:14', '8/27/2014 12:16', '8/27/2014 12:18', '8/27/2014 12:19', '8/27/2014 12:20', '8/27/2014 12:22', '8/27/2014 12:23', '8/27/2014 12:25', '8/27/2014 12:28', '8/27/2014 12:29', '8/27/2014 12:31', '8/27/2014 12:32', '8/27/2014 12:33', '8/27/2014 12:34', '8/27/2014 12:36', '8/27/2014 12:37', '8/27/2014 12:38', '8/27/2014 12:39', '8/27/2014 12:40', '8/27/2014 12:41', '8/27/2014 12:42', '8/27/2014 12:43', '8/27/2014 12:48', '8/27/2014 12:49', '8/27/2014 12:50', '8/27/2014 12:51', '8/27/2014 12:52', '8/27/2014 12:53', '8/27/2014 12:54', '8/27/2014 12:55', '8/27/2014 12:56', '8/27/2014 12:57', '8/27/2014 12:58', '8/27/2014 13:02', '8/27/2014 13:03', '8/27/2014 13:06', '8/27/2014 13:07', '8/27/2014 13:08', '8/27/2014 13:12', '8/27/2014 13:15', '8/27/2014 13:19', '8/27/2014 13:21', '8/27/2014 13:22', '8/27/2014 13:23', '8/27/2014 13:24', '8/27/2014 13:26', '8/27/2014 13:27', '8/27/2014 13:29', '8/27/2014 13:31', '8/27/2014 13:33', '8/27/2014 13:34', '8/27/2014 13:35', '8/27/2014 13:37', '8/27/2014 13:39', '8/27/2014 13:40', '8/27/2014 13:44', '8/27/2014 13:46', '8/27/2014 13:47', '8/27/2014 13:48', '8/27/2014 13:49', '8/27/2014 13:52', '8/27/2014 13:53', '8/27/2014 13:54', '8/27/2014 13:55', '8/27/2014 13:56', '8/27/2014 13:59', '8/27/2014 14:01', '8/27/2014 14:03', '8/27/2014 14:10', '8/27/2014 14:11', '8/27/2014 14:13', '8/27/2014 14:15', '8/27/2014 14:16', '8/27/2014 14:18', '8/27/2014 14:19', '8/27/2014 14:20', '8/27/2014 14:22', '8/27/2014 14:23', '8/27/2014 14:25', '8/27/2014 14:26', '8/27/2014 14:27', '8/27/2014 14:28', '8/27/2014 14:29', '8/27/2014 14:31', '8/27/2014 14:32', '8/27/2014 14:33', '8/27/2014 14:34', '8/27/2014 14:37', '8/27/2014 14:38', '8/27/2014 14:39', '8/27/2014 14:41', '8/27/2014 14:45', '8/27/2014 14:47', '8/27/2014 14:49', '8/27/2014 14:51', '8/27/2014 14:52', '8/27/2014 14:53', '8/27/2014 14:57', '8/27/2014 15:05', '8/27/2014 15:09', '8/27/2014 15:11', '8/27/2014 15:13', '8/27/2014 15:14', '8/27/2014 15:15', '8/27/2014 15:22', '8/27/2014 15:23', '8/27/2014 15:24', '8/27/2014 15:25', '8/27/2014 15:26', '8/27/2014 15:27', '8/27/2014 15:28', '8/27/2014 15:29', '8/27/2014 15:31', '8/27/2014 15:32', '8/27/2014 15:34', '8/27/2014 15:35', '8/27/2014 15:36', '8/27/2014 15:38', '8/27/2014 15:39', '8/27/2014 15:40', '8/27/2014 15:43', '8/27/2014 15:46', '8/27/2014 15:50', '8/27/2014 15:51', '8/27/2014 15:53', '8/27/2014 15:55', '8/27/2014 15:56', '8/27/2014 15:58', '8/27/2014 15:59', '8/27/2014 16:00', '8/27/2014 16:02', '8/27/2014 16:04', '8/27/2014 16:07', '8/27/2014 16:13', '8/27/2014 16:14', '8/27/2014 16:15', '8/27/2014 16:17', '8/27/2014 16:19', '8/27/2014 16:21', '8/27/2014 16:22', '8/27/2014 16:23', '8/27/2014 16:25', '8/27/2014 16:27', '8/27/2014 16:28', '8/27/2014 16:29', '8/27/2014 16:31', '8/27/2014 16:34', '8/27/2014 16:35', '8/27/2014 16:42', '8/27/2014 16:55', '8/27/2014 17:03', '8/27/2014 17:04', '8/27/2014 17:08', '8/27/2014 17:09', '8/27/2014 17:10', '8/27/2014 17:15', '8/27/2014 17:19', '8/27/2014 17:32', '8/27/2014 17:33', '8/27/2014 17:37', '8/27/2014 17:39', '8/27/2014 17:41', '8/27/2014 17:46', '8/27/2014 17:47', '8/27/2014 17:48', '8/27/2014 17:52', '8/27/2014 17:56', '8/27/2014 18:02', '8/27/2014 18:16', '8/27/2014 18:18', '8/27/2014 18:41', '8/27/2014 18:59', '8/27/2014 19:05', '8/27/2014 19:13', '8/27/2014 19:17', '8/27/2014 19:25', '8/27/2014 19:27', '8/27/2014 19:28', '8/27/2014 19:34', '8/27/2014 19:38', '8/27/2014 19:41', '8/27/2014 20:13', '8/27/2014 20:33', '8/27/2014 20:48', '8/27/2014 20:52', '8/27/2014 20:53', '8/27/2014 21:15', '8/27/2014 21:21', '8/27/2014 21:35', '8/27/2014 21:39', '8/27/2014 21:45', '8/27/2014 21:54', '8/27/2014 22:00', '8/27/2014 22:04', '8/27/2014 22:06', '8/27/2014 22:07', '8/27/2014 22:12', '8/27/2014 22:13', '8/27/2014 22:14', '8/27/2014 22:21', '8/27/2014 22:26', '8/27/2014 22:32', '8/27/2014 22:35', '8/27/2014 22:36', '8/27/2014 23:09', '8/27/2014 23:10', '8/27/2014 23:14', '8/27/2014 23:30', '8/27/2014 23:54', '8/27/2014 23:56', '8/27/2014 23:57', '8/27/2014 23:59', '8/28/2014 0:02', '8/28/2014 0:05', '8/28/2014 0:17', '8/28/2014 0:43', '8/28/2014 10:00', '8/28/2014 10:01', '8/28/2014 10:02', '8/28/2014 10:05', '8/28/2014 10:07', '8/28/2014 10:08', '8/28/2014 10:10', '8/28/2014 10:13', '8/28/2014 10:17', '8/28/2014 10:18', '8/28/2014 10:22', '8/28/2014 10:24', '8/28/2014 10:25', '8/28/2014 10:30', '8/28/2014 10:34', '8/28/2014 10:35', '8/28/2014 10:42', '8/28/2014 10:47', '8/28/2014 10:51', '8/28/2014 10:52', '8/28/2014 11:02', '8/28/2014 11:04', '8/28/2014 11:07', '8/28/2014 11:10', '8/28/2014 11:14', '8/28/2014 11:15', '8/28/2014 11:21', '8/28/2014 11:26', '8/28/2014 11:34', '8/28/2014 11:36', '8/28/2014 11:38', '8/28/2014 11:40', '8/28/2014 11:44', '8/28/2014 11:47', '8/28/2014 11:48', '8/28/2014 11:50', '8/28/2014 11:58', '8/28/2014 12:02', '8/28/2014 12:05', '8/28/2014 12:06', '8/28/2014 12:07', '8/28/2014 12:08', '8/28/2014 12:10', '8/28/2014 12:12', '8/28/2014 12:15', '8/28/2014 12:19', '8/28/2014 12:23', '8/28/2014 12:30', '8/28/2014 12:40', '8/28/2014 12:42', '8/28/2014 13:01', '8/28/2014 13:08', '8/28/2014 13:11', '8/28/2014 13:17', '8/28/2014 13:26', '8/28/2014 13:32', '8/28/2014 13:34', '8/28/2014 13:39', '8/28/2014 13:41', '8/28/2014 13:57', '8/28/2014 14:00', '8/28/2014 14:01', '8/28/2014 14:04', '8/28/2014 14:12', '8/28/2014 14:31', '8/28/2014 14:38', '8/28/2014 14:51', '8/28/2014 14:52', '8/28/2014 14:53', '8/28/2014 14:57', '8/28/2014 15:32', '8/28/2014 15:43', '8/28/2014 15:48', '8/28/2014 15:50', '8/28/2014 16:09', '8/28/2014 16:54', '8/28/2014 16:55', '8/28/2014 16:56', '8/28/2014 16:57', '8/28/2014 16:58', '8/28/2014 17:01', '8/28/2014 17:02', '8/28/2014 17:03', '8/28/2014 17:07', '8/28/2014 17:10', '8/28/2014 17:12', '8/28/2014 17:16', '8/28/2014 17:19', '8/28/2014 17:20', '8/28/2014 17:21', '8/28/2014 17:22', '8/28/2014 17:27', '8/28/2014 17:28', '8/28/2014 17:31', '8/28/2014 17:33', '8/28/2014 17:34', '8/28/2014 17:36', '8/28/2014 17:46', '8/28/2014 17:47', '8/28/2014 17:50', '8/28/2014 17:56', '8/28/2014 17:57', '8/28/2014 17:59', '8/28/2014 18:01', '8/28/2014 18:07', '8/28/2014 18:17', '8/28/2014 18:21', '8/28/2014 18:26', '8/28/2014 18:50', '8/28/2014 19:03', '8/28/2014 19:04', '8/28/2014 19:26', '8/28/2014 19:35', '8/28/2014 1:04', '8/28/2014 1:30', '8/28/2014 1:41', '8/28/2014 1:56', '8/28/2014 20:12', '8/28/2014 20:31', '8/28/2014 21:22', '8/28/2014 21:30', '8/28/2014 21:33', '8/28/2014 21:38', '8/28/2014 21:41', '8/28/2014 22:17', '8/28/2014 22:18', '8/28/2014 22:20', '8/28/2014 22:22', '8/28/2014 22:23', '8/28/2014 22:35', '8/28/2014 22:46', '8/28/2014 23:03', '8/28/2014 23:57', '8/28/2014 2:30', '8/28/2014 2:32', '8/28/2014 2:46', '8/28/2014 3:06', '8/28/2014 3:13', '8/28/2014 3:15', '8/28/2014 3:29', '8/28/2014 3:36', '8/28/2014 3:47', '8/28/2014 3:49', '8/28/2014 3:52', '8/28/2014 4:02', '8/28/2014 4:09', '8/28/2014 4:16', '8/28/2014 4:24', '8/28/2014 5:12', '8/28/2014 5:14', '8/28/2014 6:02', '8/28/2014 6:05', '8/28/2014 6:10', '8/28/2014 7:03', '8/28/2014 8:06', '8/28/2014 8:18', '8/28/2014 8:23', '8/28/2014 8:39', '8/28/2014 8:40', '8/28/2014 8:43', '8/28/2014 9:16', '8/28/2014 9:18', '8/28/2014 9:53', '8/28/2014 9:55', '8/28/2014 9:56', '8/28/2014 9:57', '8/28/2014 9:59', '8/29/2014 0:05', '8/29/2014 0:06', '8/29/2014 0:11', '8/29/2014 0:41', '8/29/2014 0:43', '8/29/2014 0:47', '8/29/2014 10:03', '8/29/2014 10:06', '8/29/2014 10:13', '8/29/2014 10:30', '8/29/2014 10:33', '8/29/2014 10:38', '8/29/2014 10:55', '8/29/2014 10:59', '8/29/2014 11:02', '8/29/2014 11:11', '8/29/2014 11:12', '8/29/2014 11:20', '8/29/2014 11:23', '8/29/2014 11:25', '8/29/2014 11:27', '8/29/2014 11:32', '8/29/2014 11:33', '8/29/2014 11:34', '8/29/2014 11:36', '8/29/2014 11:40', '8/29/2014 11:43', '8/29/2014 11:53', '8/29/2014 11:54', '8/29/2014 11:56', '8/29/2014 12:08', '8/29/2014 12:20', '8/29/2014 12:27', '8/29/2014 12:45', '8/29/2014 12:48', '8/29/2014 12:54', '8/29/2014 13:17', '8/29/2014 13:58', '8/29/2014 14:09', '8/29/2014 14:31', '8/29/2014 14:51', '8/29/2014 15:59', '8/29/2014 16:07', '8/29/2014 16:17', '8/29/2014 17:04', '8/29/2014 17:35', '8/29/2014 18:33', '8/29/2014 19:32', '8/29/2014 1:14', '8/29/2014 20:53', '8/29/2014 21:26', '8/29/2014 21:28', '8/29/2014 21:40', '8/29/2014 22:08', '8/29/2014 2:10', '8/29/2014 3:08', '8/29/2014 4:53', '8/29/2014 5:54', '8/29/2014 5:57', '8/29/2014 6:06', '8/29/2014 6:37', '8/29/2014 7:12', '8/29/2014 7:21', '8/29/2014 7:28', '8/29/2014 7:51', '8/29/2014 8:26', '8/29/2014 8:53', '8/29/2014 8:57', '8/29/2014 8:59', '8/29/2014 9:01', '8/29/2014 9:02', '8/29/2014 9:10', '8/29/2014 9:12', '8/29/2014 9:13', '8/29/2014 9:14', '8/29/2014 9:15', '8/29/2014 9:19', '8/29/2014 9:23', '8/29/2014 9:27', '8/29/2014 9:29', '8/29/2014 9:35', '8/29/2014 9:36', '8/29/2014 9:51', '8/29/2014 9:53', '8/29/2014 9:54', '8/29/2014 9:59', '8/30/2014 0:09', '8/30/2014 13:23', '8/30/2014 13:55', '8/30/2014 14:00', '8/30/2014 15:57', '8/30/2014 16:13', '8/30/2014 16:38', '8/30/2014 18:29', '8/30/2014 19:35', '8/30/2014 19:56', '8/30/2014 20:19', '8/30/2014 20:43', '8/30/2014 6:48', '8/31/2014 4:31', '9/1/2014 12:00', '9/1/2014 17:59', '9/1/2014 4:28', '9/1/2014 6:52', '9/1/2014 8:19', '9/1/2014 8:23', '9/1/2014 9:12', '9/1/2014 9:15', '9/11/2014 17:00', '9/13/2014 7:52', '9/14/2014 9:04', '9/2/2014 17:04', '9/2/2014 3:13', '9/2/2014 4:00', '9/2/2014 8:00', '9/2/2014 8:24', '9/2/2014 9:57', '9/20/2014 13:51', '9/23/2014 20:05', '9/26/2015 1:07', '9/4/2014 17:38', '9/4/2014 23:42', '9/4/2014 6:23', '9/4/2014 8:35', '9/5/2014 14:15', '9/5/2014 14:19', '9/8/2014 16:46', '9/8/2014 21:30', '9/9/2014 13:49']\n",
      "\n",
      "Gender:\n",
      "Number of unique values: 2\n",
      "Unique values: [np.int64(0), np.int64(1)]\n",
      "\n",
      "Country:\n",
      "Number of unique values: 35\n",
      "Unique values: ['Australia', 'Belgium', 'Bosnia and Herzegovina', 'Brazil', 'Canada', 'Colombia', 'Costa Rica', 'Croatia', 'Czech Republic', 'Denmark', 'Finland', 'France', 'Georgia', 'Germany', 'Greece', 'India', 'Ireland', 'Israel', 'Italy', 'Mexico', 'Moldova', 'Netherlands', 'New Zealand', 'Nigeria', 'Philippines', 'Poland', 'Portugal', 'Russia', 'Singapore', 'South Africa', 'Sweden', 'Switzerland', 'Thailand', 'United Kingdom', 'United States']\n",
      "\n",
      "Occupation:\n",
      "Number of unique values: 5\n",
      "Unique values: ['Business', 'Corporate', 'Housewife', 'Others', 'Student']\n",
      "\n",
      "self_employed:\n",
      "Number of unique values: 2\n",
      "Unique values: ['No', 'Yes']\n",
      "\n",
      "family_history:\n",
      "Number of unique values: 2\n",
      "Unique values: ['No', 'Yes']\n",
      "\n",
      "treatment:\n",
      "Number of unique values: 2\n",
      "Unique values: ['No', 'Yes']\n",
      "\n",
      "Days_Indoors:\n",
      "Number of unique values: 5\n",
      "Unique values: ['1-14 days', '15-30 days', '31-60 days', 'Go out Every day', 'More than 2 months']\n",
      "\n",
      "Growing_Stress:\n",
      "Number of unique values: 3\n",
      "Unique values: ['Maybe', 'No', 'Yes']\n",
      "\n",
      "Changes_Habits:\n",
      "Number of unique values: 3\n",
      "Unique values: ['Maybe', 'No', 'Yes']\n",
      "\n",
      "Mental_Health_History:\n",
      "Number of unique values: 3\n",
      "Unique values: ['Maybe', 'No', 'Yes']\n",
      "\n",
      "Mood_Swings:\n",
      "Number of unique values: 3\n",
      "Unique values: ['High', 'Low', 'Medium']\n",
      "\n",
      "Coping_Struggles:\n",
      "Number of unique values: 2\n",
      "Unique values: ['No', 'Yes']\n",
      "\n",
      "Work_Interest:\n",
      "Number of unique values: 3\n",
      "Unique values: ['Maybe', 'No', 'Yes']\n",
      "\n",
      "Social_Weakness:\n",
      "Number of unique values: 3\n",
      "Unique values: ['Maybe', 'No', 'Yes']\n",
      "\n",
      "mental_health_interview:\n",
      "Number of unique values: 3\n",
      "Unique values: ['Maybe', 'No', 'Yes']\n",
      "\n",
      "care_options:\n",
      "Number of unique values: 3\n",
      "Unique values: ['No', 'Not sure', 'Yes']\n"
     ]
    }
   ],
   "source": [
    "# Initialize lists for each attribute type\n",
    "nominal_attributes = []\n",
    "binary_attributes = []\n",
    "ordinal_attributes = []\n",
    "check_manually_attributes = []\n",
    "\n",
    "# Analyze unique values in each column and categorize attributes\n",
    "print(\"Analysis of attribute types:\\n\")\n",
    "\n",
    "for column in mental_health_processed.columns:\n",
    "    unique_values = mental_health_processed[column].unique()\n",
    "    n_unique = len(unique_values)\n",
    "    \n",
    "    print(f\"\\n{column}:\")\n",
    "    print(f\"Number of unique values: {n_unique}\")\n",
    "    print(f\"Unique values: {sorted(unique_values)}\")\n",
    "    \n",
    "    # Determine the attribute type and append to the list\n",
    "    if n_unique == 2:\n",
    "        binary_attributes.append(column)\n",
    "    elif n_unique <= 4 and isinstance(unique_values[0], (str, int)):\n",
    "        ordinal_attributes.append(column)\n",
    "    elif n_unique > 10 or isinstance(unique_values[0], (float, pd.Timestamp)):\n",
    "        nominal_attributes.append(column)\n",
    "    else:\n",
    "        check_manually_attributes.append(column)\n"
   ]
  },
  {
   "cell_type": "markdown",
   "metadata": {},
   "source": [
    "### 2. Categorize attributes\n"
   ]
  },
  {
   "cell_type": "code",
   "execution_count": 16,
   "metadata": {},
   "outputs": [
    {
     "name": "stdout",
     "output_type": "stream",
     "text": [
      "\n",
      "Nominal Attributes:\n",
      "- Timestamp\n",
      "- Country\n",
      "\n",
      "Binary Attributes:\n",
      "- Gender\n",
      "- self_employed\n",
      "- family_history\n",
      "- treatment\n",
      "- Coping_Struggles\n",
      "\n",
      "Ordinal Attributes:\n",
      "- Growing_Stress\n",
      "- Changes_Habits\n",
      "- Mental_Health_History\n",
      "- Mood_Swings\n",
      "- Work_Interest\n",
      "- Social_Weakness\n",
      "- mental_health_interview\n",
      "- care_options\n",
      "\n",
      "Attributes to Check Manually:\n",
      "- Occupation\n",
      "- Days_Indoors\n"
     ]
    }
   ],
   "source": [
    "# Print the categorized attributes\n",
    "print(\"\\nNominal Attributes:\")\n",
    "for attr in nominal_attributes:\n",
    "    print(f\"- {attr}\")\n",
    "\n",
    "print(\"\\nBinary Attributes:\")\n",
    "for attr in binary_attributes:\n",
    "    print(f\"- {attr}\")\n",
    "\n",
    "print(\"\\nOrdinal Attributes:\")\n",
    "for attr in ordinal_attributes:\n",
    "    print(f\"- {attr}\")\n",
    "\n",
    "print(\"\\nAttributes to Check Manually:\")\n",
    "for attr in check_manually_attributes:\n",
    "    print(f\"- {attr}\")"
   ]
  },
  {
   "cell_type": "markdown",
   "metadata": {},
   "source": [
    "#### Nominal attributes"
   ]
  },
  {
   "cell_type": "code",
   "execution_count": 17,
   "metadata": {},
   "outputs": [
    {
     "name": "stdout",
     "output_type": "stream",
     "text": [
      "\n",
      "Nominal Attributes:\n",
      "- Timestamp\n",
      "- Country\n",
      "- Occupation\n"
     ]
    }
   ],
   "source": [
    "# nominal attributes\n",
    "nominal_attributes = [\n",
    "    'Timestamp',\n",
    "    'Country',\n",
    "    'Occupation'\n",
    "]\n",
    "\n",
    "print(\"\\nNominal Attributes:\")\n",
    "for attr in nominal_attributes:\n",
    "    print(f\"- {attr}\")"
   ]
  },
  {
   "cell_type": "markdown",
   "metadata": {},
   "source": [
    "#### Binary attributes"
   ]
  },
  {
   "cell_type": "code",
   "execution_count": 18,
   "metadata": {},
   "outputs": [
    {
     "name": "stdout",
     "output_type": "stream",
     "text": [
      "\n",
      "Binary Attributes:\n",
      "- Gender\n",
      "- self_employed\n",
      "- family_history\n",
      "- treatment\n",
      "- Growing_Stress\n",
      "- Changes_Habits\n",
      "- Mental_Health_History\n",
      "- Coping_Struggles\n",
      "- Work_Interest\n",
      "- Social_Weakness\n"
     ]
    }
   ],
   "source": [
    "# binary attributes\n",
    "binary_attributes = [\n",
    "    'Gender',  # After conversion to 0/1\n",
    "    'self_employed',  # Yes/No\n",
    "    'family_history',  # Yes/No\n",
    "    'treatment',  # Yes/No\n",
    "    'Growing_Stress',  # Yes/No\n",
    "    'Changes_Habits',  # Yes/No\n",
    "    'Mental_Health_History',  # Yes/No\n",
    "    'Coping_Struggles',  # Yes/No\n",
    "    'Work_Interest',  # Yes/No\n",
    "    'Social_Weakness'  # Yes/No\n",
    "]\n",
    "\n",
    "print(\"\\nBinary Attributes:\")\n",
    "for attr in binary_attributes:\n",
    "    print(f\"- {attr}\")"
   ]
  },
  {
   "cell_type": "markdown",
   "metadata": {},
   "source": [
    "#### Ordinal attributes"
   ]
  },
  {
   "cell_type": "code",
   "execution_count": 19,
   "metadata": {},
   "outputs": [
    {
     "name": "stdout",
     "output_type": "stream",
     "text": [
      "\n",
      "Ordinal Attributes:\n",
      "- Days_Indoors\n",
      "- Mood_Swings\n",
      "- mental_health_interview\n",
      "- care_options\n"
     ]
    }
   ],
   "source": [
    "# ordinal attributes\n",
    "ordinal_attributes = [\n",
    "    'Days_Indoors',  # 1-14 days, 15-30 days, 31-60 days, More than 2 months\n",
    "    'Mood_Swings',  # Low, Medium, High\n",
    "    'mental_health_interview',  # No, Maybe, Yes\n",
    "    'care_options'  # No, Not sure, Yes\n",
    "]\n",
    "\n",
    "print(\"\\nOrdinal Attributes:\")\n",
    "for attr in ordinal_attributes:\n",
    "    print(f\"- {attr}\")"
   ]
  },
  {
   "cell_type": "markdown",
   "metadata": {},
   "source": [
    "## III. Statistics\n"
   ]
  },
  {
   "cell_type": "code",
   "execution_count": 20,
   "metadata": {},
   "outputs": [],
   "source": [
    "import numpy as np"
   ]
  },
  {
   "cell_type": "markdown",
   "metadata": {},
   "source": [
    "#### Convert data to numeric columns\n"
   ]
  },
  {
   "cell_type": "code",
   "execution_count": 21,
   "metadata": {},
   "outputs": [],
   "source": [
    "# Convert binary columns from Yes/No to 1/0\n",
    "numeric_data = mental_health_processed.copy()\n",
    "\n",
    "binary_columns = ['self_employed', 'family_history', 'treatment', \n",
    "                 'Growing_Stress', 'Changes_Habits', 'Mental_Health_History',\n",
    "                 'Coping_Struggles', 'Work_Interest', 'Social_Weakness']\n",
    "\n",
    "for column in binary_columns:\n",
    "    numeric_data[column] = numeric_data[column].map({'Yes': 1, 'No': 0, 'Maybe': 0.5})"
   ]
  },
  {
   "cell_type": "markdown",
   "metadata": {},
   "source": [
    "### Calculate statistics"
   ]
  },
  {
   "cell_type": "code",
   "execution_count": 22,
   "metadata": {},
   "outputs": [],
   "source": [
    "# calculate statistics for each numeric columns\n",
    "\n",
    "stats_summary = pd.DataFrame()\n",
    "\n",
    "for column in numeric_data.select_dtypes(include=[np.number]).columns:\n",
    "    stats = {\n",
    "        'Mean': np.mean(numeric_data[column]),\n",
    "        'Median': np.median(numeric_data[column]),\n",
    "        'Std Dev': np.std(numeric_data[column]),\n",
    "        'Variance': np.var(numeric_data[column]),\n",
    "        'Min': np.min(numeric_data[column]),\n",
    "        'Max': np.max(numeric_data[column]),\n",
    "        'Sum': np.sum(numeric_data[column]),\n",
    "        'Product': np.prod(numeric_data[column])\n",
    "    }\n",
    "    stats_summary[column] = pd.Series(stats)"
   ]
  },
  {
   "cell_type": "code",
   "execution_count": 23,
   "metadata": {},
   "outputs": [
    {
     "name": "stdout",
     "output_type": "stream",
     "text": [
      "Statistical Summary:\n",
      "              Gender  self_employed  family_history   treatment  \\\n",
      "Mean           0.820          0.100           0.395       0.504   \n",
      "Median         1.000          0.000           0.000       1.000   \n",
      "Std Dev        0.384          0.301           0.489       0.500   \n",
      "Variance       0.147          0.090           0.239       0.250   \n",
      "Min            0.000          0.000           0.000       0.000   \n",
      "Max            1.000          1.000           1.000       1.000   \n",
      "Sum       237900.000      29147.000      114533.000  146184.000   \n",
      "Product        0.000          0.000           0.000       0.000   \n",
      "\n",
      "          Growing_Stress  Changes_Habits  Mental_Health_History  \\\n",
      "Mean               0.512           0.538                  0.481   \n",
      "Median             0.500           0.500                  0.500   \n",
      "Std Dev            0.405           0.409                  0.410   \n",
      "Variance           0.164           0.167                  0.168   \n",
      "Min                0.000           0.000                  0.000   \n",
      "Max                1.000           1.000                  1.000   \n",
      "Sum           148421.000      155932.500             139480.000   \n",
      "Product            0.000           0.000                  0.000   \n",
      "\n",
      "          Coping_Struggles  Work_Interest  Social_Weakness  \n",
      "Mean                 0.472          0.465            0.491  \n",
      "Median               0.000          0.500            0.500  \n",
      "Std Dev              0.499          0.403            0.402  \n",
      "Variance             0.249          0.162            0.161  \n",
      "Min                  0.000          0.000            0.000  \n",
      "Max                  1.000          1.000            1.000  \n",
      "Sum             137020.000     134847.000       142285.500  \n",
      "Product              0.000          0.000            0.000  \n"
     ]
    }
   ],
   "source": [
    "\n",
    "# Display the statistics\n",
    "print(\"Statistical Summary:\")\n",
    "print(stats_summary.round(3))"
   ]
  },
  {
   "cell_type": "markdown",
   "metadata": {},
   "source": [
    "## IV. Visualization\n"
   ]
  },
  {
   "cell_type": "code",
   "execution_count": 24,
   "metadata": {},
   "outputs": [
    {
     "name": "stdout",
     "output_type": "stream",
     "text": [
      "Requirement already satisfied: matplotlib in ./.venv/lib/python3.13/site-packages (3.9.3)\n",
      "Requirement already satisfied: contourpy>=1.0.1 in ./.venv/lib/python3.13/site-packages (from matplotlib) (1.3.1)\n",
      "Requirement already satisfied: cycler>=0.10 in ./.venv/lib/python3.13/site-packages (from matplotlib) (0.12.1)\n",
      "Requirement already satisfied: fonttools>=4.22.0 in ./.venv/lib/python3.13/site-packages (from matplotlib) (4.55.2)\n",
      "Requirement already satisfied: kiwisolver>=1.3.1 in ./.venv/lib/python3.13/site-packages (from matplotlib) (1.4.7)\n",
      "Requirement already satisfied: numpy>=1.23 in ./.venv/lib/python3.13/site-packages (from matplotlib) (2.1.3)\n",
      "Requirement already satisfied: packaging>=20.0 in ./.venv/lib/python3.13/site-packages (from matplotlib) (24.2)\n",
      "Requirement already satisfied: pillow>=8 in ./.venv/lib/python3.13/site-packages (from matplotlib) (11.0.0)\n",
      "Requirement already satisfied: pyparsing>=2.3.1 in ./.venv/lib/python3.13/site-packages (from matplotlib) (3.2.0)\n",
      "Requirement already satisfied: python-dateutil>=2.7 in ./.venv/lib/python3.13/site-packages (from matplotlib) (2.9.0.post0)\n",
      "Requirement already satisfied: six>=1.5 in ./.venv/lib/python3.13/site-packages (from python-dateutil>=2.7->matplotlib) (1.17.0)\n",
      "Note: you may need to restart the kernel to use updated packages.\n"
     ]
    }
   ],
   "source": [
    "# Install matplot library\n",
    "%pip install matplotlib\n",
    "\n",
    "# Import matplot library\n",
    "import matplotlib.pyplot as plt\n",
    "%matplotlib inline"
   ]
  },
  {
   "cell_type": "code",
   "execution_count": 25,
   "metadata": {},
   "outputs": [
    {
     "data": {
      "image/png": "[encoded data removed]",
      "text/plain": [
       "<Figure size 800x600 with 1 Axes>"
      ]
     },
     "metadata": {},
     "output_type": "display_data"
    },
    {
     "name": "stdout",
     "output_type": "stream",
     "text": [
      "Gender Distribution Breakdown (1 = Female, 0 = Male):\n",
      "Gender\n",
      "1    237900\n",
      "0     52151\n",
      "Name: count, dtype: int64\n"
     ]
    }
   ],
   "source": [
    "plt.figure(figsize=(8, 6))\n",
    "gender_counts = mental_health_processed['Gender'].value_counts()\n",
    "plt.pie(gender_counts, labels=['Female', 'Male'], autopct='%1.1f%%')\n",
    "plt.title('Gender Distribution')\n",
    "plt.show()\n",
    "\n",
    "# Numerical breakdown\n",
    "print(\"Gender Distribution Breakdown (1 = Female, 0 = Male):\")\n",
    "print(gender_counts)"
   ]
  },
  {
   "cell_type": "code",
   "execution_count": 27,
   "metadata": {},
   "outputs": [
    {
     "name": "stdout",
     "output_type": "stream",
     "text": [
      "Requirement already satisfied: seaborn in ./.venv/lib/python3.13/site-packages (0.13.2)\n",
      "Requirement already satisfied: numpy!=1.24.0,>=1.20 in ./.venv/lib/python3.13/site-packages (from seaborn) (2.1.3)\n",
      "Requirement already satisfied: pandas>=1.2 in ./.venv/lib/python3.13/site-packages (from seaborn) (2.2.3)\n",
      "Requirement already satisfied: matplotlib!=3.6.1,>=3.4 in ./.venv/lib/python3.13/site-packages (from seaborn) (3.9.3)\n",
      "Requirement already satisfied: contourpy>=1.0.1 in ./.venv/lib/python3.13/site-packages (from matplotlib!=3.6.1,>=3.4->seaborn) (1.3.1)\n",
      "Requirement already satisfied: cycler>=0.10 in ./.venv/lib/python3.13/site-packages (from matplotlib!=3.6.1,>=3.4->seaborn) (0.12.1)\n",
      "Requirement already satisfied: fonttools>=4.22.0 in ./.venv/lib/python3.13/site-packages (from matplotlib!=3.6.1,>=3.4->seaborn) (4.55.2)\n",
      "Requirement already satisfied: kiwisolver>=1.3.1 in ./.venv/lib/python3.13/site-packages (from matplotlib!=3.6.1,>=3.4->seaborn) (1.4.7)\n",
      "Requirement already satisfied: packaging>=20.0 in ./.venv/lib/python3.13/site-packages (from matplotlib!=3.6.1,>=3.4->seaborn) (24.2)\n",
      "Requirement already satisfied: pillow>=8 in ./.venv/lib/python3.13/site-packages (from matplotlib!=3.6.1,>=3.4->seaborn) (11.0.0)\n",
      "Requirement already satisfied: pyparsing>=2.3.1 in ./.venv/lib/python3.13/site-packages (from matplotlib!=3.6.1,>=3.4->seaborn) (3.2.0)\n",
      "Requirement already satisfied: python-dateutil>=2.7 in ./.venv/lib/python3.13/site-packages (from matplotlib!=3.6.1,>=3.4->seaborn) (2.9.0.post0)\n",
      "Requirement already satisfied: pytz>=2020.1 in ./.venv/lib/python3.13/site-packages (from pandas>=1.2->seaborn) (2024.2)\n",
      "Requirement already satisfied: tzdata>=2022.7 in ./.venv/lib/python3.13/site-packages (from pandas>=1.2->seaborn) (2024.2)\n",
      "Requirement already satisfied: six>=1.5 in ./.venv/lib/python3.13/site-packages (from python-dateutil>=2.7->matplotlib!=3.6.1,>=3.4->seaborn) (1.17.0)\n",
      "Note: you may need to restart the kernel to use updated packages.\n"
     ]
    },
    {
     "data": {
      "text/plain": [
       "<Figure size 1200x600 with 0 Axes>"
      ]
     },
     "metadata": {},
     "output_type": "display_data"
    },
    {
     "data": {
      "image/png": "[encoded data removed]",
      "text/plain": [
       "<Figure size 640x480 with 1 Axes>"
      ]
     },
     "metadata": {},
     "output_type": "display_data"
    },
    {
     "name": "stdout",
     "output_type": "stream",
     "text": [
      "\n",
      "Numerical breakdown:\n",
      "Days_Indoors  1-14 days  15-30 days  31-60 days  Go out Every day  \\\n",
      "Mood_Swings                                                         \n",
      "High              16561       18512       16687             21446   \n",
      "Low               25353       15830       22298             18996   \n",
      "Medium            21199       19132       21073             17539   \n",
      "\n",
      "Days_Indoors  More than 2 months  \n",
      "Mood_Swings                       \n",
      "High                       17297  \n",
      "Low                        16687  \n",
      "Medium                     21441  \n"
     ]
    }
   ],
   "source": [
    "%pip install seaborn\n",
    "# Import seaborn \n",
    "import seaborn as sns\n",
    "\n",
    "mood_days = pd.crosstab(mental_health_processed['Mood_Swings'], \n",
    "                        mental_health_processed['Days_Indoors'])\n",
    "\n",
    "plt.figure(figsize=(12, 6))\n",
    "\n",
    "mood_days.plot(kind='bar', stacked=True)\n",
    "\n",
    "plt.title('Relationship between Mood Swings and Days Indoors', fontsize=12, pad=20)\n",
    "plt.xlabel('Mood Swings Level', fontsize=10)\n",
    "plt.ylabel('Number of People', fontsize=10)\n",
    "plt.legend(title='Days Indoors', bbox_to_anchor=(1.05, 1), loc='upper left')\n",
    "\n",
    "plt.xticks(rotation=0)\n",
    "\n",
    "plt.grid(axis='y', linestyle='--', alpha=0.7)\n",
    "\n",
    "plt.tight_layout()\n",
    "\n",
    "plt.show()\n",
    "\n",
    "print(\"\\nNumerical breakdown:\")\n",
    "print(mood_days)"
   ]
  },
  {
   "cell_type": "markdown",
   "metadata": {},
   "source": [
    "### Mood and Indoor Time Correlation\n",
    "There appears to be a relationship between time spent indoors and mood swings, with those spending more time indoors showing a higher tendency toward severe mood swings."
   ]
  },
  {
   "cell_type": "code",
   "execution_count": 28,
   "metadata": {},
   "outputs": [
    {
     "data": {
      "image/png": "[encoded data removed]",
      "text/plain": [
       "<Figure size 1000x600 with 1 Axes>"
      ]
     },
     "metadata": {},
     "output_type": "display_data"
    },
    {
     "name": "stdout",
     "output_type": "stream",
     "text": [
      "Top 10 Countries Breakdown:\n",
      "Country\n",
      "United States     169112\n",
      "United Kingdom     51356\n",
      "Canada             18699\n",
      "Australia           6014\n",
      "Netherlands         5891\n",
      "Ireland             5542\n",
      "Germany             4680\n",
      "Sweden              2812\n",
      "India               2771\n",
      "France              2340\n",
      "Name: count, dtype: int64\n"
     ]
    }
   ],
   "source": [
    "plt.figure(figsize=(10, 6))\n",
    "country_counts = mental_health_processed['Country'].value_counts().head(10)\n",
    "country_counts.plot(kind='barh')\n",
    "plt.title('Top 10 Countries')\n",
    "plt.xlabel('Number of people')\n",
    "plt.grid(axis='x', linestyle='--', alpha=0.7)\n",
    "plt.show()\n",
    "\n",
    "print(\"Top 10 Countries Breakdown:\")\n",
    "print(country_counts)"
   ]
  },
  {
   "cell_type": "markdown",
   "metadata": {},
   "source": [
    "\n",
    "### Geographic Distribution\n",
    "The United States dominates the survey responses, accounting for 62.8% of all participants, followed by the United Kingdom and Canada. This geographic concentration should be considered when generalizing the findings."
   ]
  },
  {
   "cell_type": "code",
   "execution_count": 29,
   "metadata": {},
   "outputs": [
    {
     "data": {
      "image/png": "[encoded data removed]",
      "text/plain": [
       "<Figure size 800x600 with 1 Axes>"
      ]
     },
     "metadata": {},
     "output_type": "display_data"
    },
    {
     "name": "stdout",
     "output_type": "stream",
     "text": [
      "Treatment Distribution Breakdown:\n",
      "treatment\n",
      "Yes    146184\n",
      "No     143867\n",
      "Name: count, dtype: int64\n"
     ]
    }
   ],
   "source": [
    "plt.figure(figsize=(8, 6))\n",
    "treatment_counts = mental_health_processed['treatment'].value_counts()\n",
    "treatment_counts.plot(kind='bar')\n",
    "plt.title('Treatment Distribution')\n",
    "plt.xlabel('Sought Treatment')\n",
    "plt.ylabel('Number of people')\n",
    "plt.xticks(rotation=0)\n",
    "plt.grid(axis='y', linestyle='--', alpha=0.7)\n",
    "plt.show()\n",
    "\n",
    "print(\"Treatment Distribution Breakdown:\")\n",
    "print(treatment_counts)"
   ]
  },
  {
   "cell_type": "markdown",
   "metadata": {},
   "source": [
    "### Treatment Distribution Insights\n",
    "The analysis shows that approximately 50.4% of respondents sought treatment for mental health issues, while 49.6% did not. This near-even split suggests that seeking treatment is a common but not universal response to mental health concerns in the tech industry."
   ]
  },
  {
   "cell_type": "markdown",
   "metadata": {},
   "source": [
    "# Final Conclusion\n",
    "\n",
    "This analysis explores mental health in the tech industry using survey data from 2014. \n",
    "Key findings include:\n",
    "- Gender distribution shows 82% female and 18% male participants\n",
    "- 62.8% of respondents are from the United States\n",
    "- 50.4% of respondents sought mental health treatment\n",
    "- There appears to be a correlation between indoor time and mood swings\n",
    "\n",
    "Methodology included data cleaning, statistical analysis, and visualization of key metrics."
   ]
  }
 ],
 "metadata": {
  "kernelspec": {
   "display_name": ".venv",
   "language": "python",
   "name": "python3"
  },
  "language_info": {
   "codemirror_mode": {
    "name": "ipython",
    "version": 3
   },
   "file_extension": ".py",
   "mimetype": "text/x-python",
   "name": "python",
   "nbconvert_exporter": "python",
   "pygments_lexer": "ipython3",
   "version": "3.13.0"
  }
 },
 "nbformat": 4,
 "nbformat_minor": 2
}
